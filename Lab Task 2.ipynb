{
 "cells": [
  {
   "cell_type": "markdown",
   "metadata": {},
   "source": [
    "A class is a blueprint for declaring and creating objects.\n",
    "An object is a class instance that allows programmers to use variables and methods from inside the class.\n",
    "Memory is not allocated to classes"
   ]
  },
  {
   "cell_type": "code",
   "execution_count": 2,
   "metadata": {},
   "outputs": [
    {
     "name": "stdout",
     "output_type": "stream",
     "text": [
      "Abdullah\n"
     ]
    }
   ],
   "source": [
    "#Example\n",
    "# Students is class which have different methods performing inside it\n",
    "class Students:\n",
    "    def __init__(self,name):\n",
    "        self.name=name\n",
    "\n",
    "# std1 is object which is created for a class name (Students)\n",
    "std1=Students(\"Abdullah\")\n",
    "print(std1.name)"
   ]
  },
  {
   "cell_type": "markdown",
   "metadata": {},
   "source": [
    "(__init__): This method is the constructor of the class. It is called when you create an instance (object) of the class.It initializes the object's attributes with the values provided during instantiation.\n",
    "\n",
    "(__str__): This method defines a string representation of the object. It is called by the str() function or when you print the object.It should return a human-readable string that represents the object's state."
   ]
  },
  {
   "cell_type": "code",
   "execution_count": 1,
   "metadata": {},
   "outputs": [],
   "source": [
    "class rectangle:\n",
    "    def __init__(self,width,length):\n",
    "        self.width=width\n",
    "        self.length=length\n",
    "    def __str__(self):\n",
    "        return f\"The width of rectangle is {self.width} and The length of rectangle is {self.length}\""
   ]
  },
  {
   "cell_type": "code",
   "execution_count": 3,
   "metadata": {},
   "outputs": [
    {
     "name": "stdout",
     "output_type": "stream",
     "text": [
      "The width of rectangle is 5 and The length of rectangle is 7\n"
     ]
    }
   ],
   "source": [
    "obg1=rectangle(5,7)\n",
    "print(obg1)"
   ]
  },
  {
   "cell_type": "code",
   "execution_count": null,
   "metadata": {},
   "outputs": [],
   "source": []
  }
 ],
 "metadata": {
  "kernelspec": {
   "display_name": "Python 3",
   "language": "python",
   "name": "python3"
  },
  "language_info": {
   "codemirror_mode": {
    "name": "ipython",
    "version": 3
   },
   "file_extension": ".py",
   "mimetype": "text/x-python",
   "name": "python",
   "nbconvert_exporter": "python",
   "pygments_lexer": "ipython3",
   "version": "3.12.2"
  }
 },
 "nbformat": 4,
 "nbformat_minor": 2
}
