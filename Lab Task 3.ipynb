{
 "cells": [
  {
   "cell_type": "code",
   "execution_count": 1,
   "metadata": {},
   "outputs": [],
   "source": [
    "class rectangle:\n",
    "    def __init__(self,width,length):\n",
    "        self.width=width\n",
    "        self.length=length\n",
    "    def __str__(self):\n",
    "        return f\"The width of rectangle is {self.width} and The length of rectangle is {self.length}\"\n",
    "    def Area(self):\n",
    "        print(\"The area of rectangle is\",self.width*self.length)\n",
    "    def Perimeter(self):\n",
    "        print(\"The perimeter of rectangle is\", 2*(self.width*self.length))\n",
    "       \n"
   ]
  },
  {
   "cell_type": "code",
   "execution_count": 2,
   "metadata": {},
   "outputs": [
    {
     "name": "stdout",
     "output_type": "stream",
     "text": [
      "The area of rectangle is 18\n",
      "The perimeter of rectangle is 36\n",
      "The width of rectangle is 3 and The length of rectangle is 6\n"
     ]
    }
   ],
   "source": [
    "calculation=rectangle(3,6)\n",
    "calculation.Area()\n",
    "calculation.Perimeter()\n",
    "print(calculation)"
   ]
  },
  {
   "cell_type": "code",
   "execution_count": null,
   "metadata": {},
   "outputs": [],
   "source": []
  }
 ],
 "metadata": {
  "kernelspec": {
   "display_name": "Python 3",
   "language": "python",
   "name": "python3"
  },
  "language_info": {
   "codemirror_mode": {
    "name": "ipython",
    "version": 3
   },
   "file_extension": ".py",
   "mimetype": "text/x-python",
   "name": "python",
   "nbconvert_exporter": "python",
   "pygments_lexer": "ipython3",
   "version": "3.12.2"
  }
 },
 "nbformat": 4,
 "nbformat_minor": 2
}
