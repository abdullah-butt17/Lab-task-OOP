{
 "cells": [
  {
   "cell_type": "code",
   "execution_count": 1,
   "metadata": {},
   "outputs": [],
   "source": [
    "def is_prime(number):\n",
    "    a=0\n",
    "    for i in range(1,number+1):\n",
    "        if number%i==0:\n",
    "            a+=1\n",
    "    if a==2:\n",
    "        return True\n",
    "    else:\n",
    "        return False\n",
    "    "
   ]
  },
  {
   "cell_type": "code",
   "execution_count": 7,
   "metadata": {},
   "outputs": [
    {
     "data": {
      "text/plain": [
       "True"
      ]
     },
     "execution_count": 7,
     "metadata": {},
     "output_type": "execute_result"
    }
   ],
   "source": [
    "is_prime(5)"
   ]
  },
  {
   "cell_type": "code",
   "execution_count": 1,
   "metadata": {},
   "outputs": [],
   "source": [
    "import math\n",
    "def is_prime():\n",
    "    num=int(input(\"Enter the number\"))\n",
    "    x=int(math.sqrt(num))\n",
    "    for i in range(2,x+1):\n",
    "        if num%i==0:\n",
    "            return False\n",
    "        else:\n",
    "            return True\n",
    "            "
   ]
  },
  {
   "cell_type": "code",
   "execution_count": 2,
   "metadata": {},
   "outputs": [
    {
     "data": {
      "text/plain": [
       "False"
      ]
     },
     "execution_count": 2,
     "metadata": {},
     "output_type": "execute_result"
    }
   ],
   "source": [
    "is_prime()"
   ]
  },
  {
   "cell_type": "code",
   "execution_count": 6,
   "metadata": {},
   "outputs": [],
   "source": [
    "def prime():\n",
    "    while True:\n",
    "        num=int(input(\"Enter the Number\"))\n",
    "        a=0\n",
    "        for i in range(1,num+1):\n",
    "            if num%i==0:\n",
    "                a+=1\n",
    "        if a==2:\n",
    "            print(f\"The number {num} is a prime number\")\n",
    "        else:\n",
    "            print(f\"The number {num} is not a prime number\")\n",
    "        if num==0:\n",
    "            break"
   ]
  },
  {
   "cell_type": "code",
   "execution_count": 10,
   "metadata": {},
   "outputs": [
    {
     "name": "stdout",
     "output_type": "stream",
     "text": [
      "The number 9 is not a prime number\n",
      "The number 6 is not a prime number\n",
      "The number 9 is not a prime number\n",
      "The number 6 is not a prime number\n",
      "The number 7 is a prime number\n",
      "The number 0 is not a prime number\n"
     ]
    }
   ],
   "source": [
    "prime()"
   ]
  },
  {
   "cell_type": "code",
   "execution_count": null,
   "metadata": {},
   "outputs": [],
   "source": []
  }
 ],
 "metadata": {
  "kernelspec": {
   "display_name": "Python 3",
   "language": "python",
   "name": "python3"
  },
  "language_info": {
   "codemirror_mode": {
    "name": "ipython",
    "version": 3
   },
   "file_extension": ".py",
   "mimetype": "text/x-python",
   "name": "python",
   "nbconvert_exporter": "python",
   "pygments_lexer": "ipython3",
   "version": "3.12.2"
  }
 },
 "nbformat": 4,
 "nbformat_minor": 2
}
